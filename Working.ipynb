{
 "cells": [
  {
   "cell_type": "code",
   "execution_count": 42,
   "metadata": {},
   "outputs": [
    {
     "name": "stdout",
     "output_type": "stream",
     "text": [
      "Hi everyone!\n"
     ]
    }
   ],
   "source": [
    "try:\n",
    "    result=14/0\n",
    "    result + \"100\"\n",
    "except (ZeroDivisionError, TypeError):\n",
    "    result=\"Hi everyone!\"\n",
    "\n",
    "print(result)"
   ]
  },
  {
   "cell_type": "code",
   "execution_count": 43,
   "metadata": {},
   "outputs": [],
   "source": [
    "def divv(n,m):\n",
    "    try:\n",
    "        result= n/m\n",
    "    except ZeroDivisionError as error:\n",
    "        print(f'It is no possible because of: {error}')\n",
    "        result =None\n",
    "    return result"
   ]
  },
  {
   "cell_type": "code",
   "execution_count": 44,
   "metadata": {},
   "outputs": [
    {
     "name": "stdout",
     "output_type": "stream",
     "text": [
      "It is no possible because of: division by zero\n"
     ]
    }
   ],
   "source": [
    "divv(3,0)"
   ]
  },
  {
   "cell_type": "code",
   "execution_count": 45,
   "metadata": {},
   "outputs": [
    {
     "name": "stdout",
     "output_type": "stream",
     "text": [
      "[10, 34, 14, 6, 100]\n"
     ]
    }
   ],
   "source": [
    "numbers = [3,1,4,5,10,34,14,6,100]\n",
    "otnumbers=[n for n in numbers if n>=6]\n",
    "print(otnumbers)"
   ]
  },
  {
   "cell_type": "markdown",
   "metadata": {},
   "source": [
    "### DICTIONARIES"
   ]
  },
  {
   "cell_type": "code",
   "execution_count": 40,
   "metadata": {},
   "outputs": [],
   "source": [
    "filter_ranges=[[5, 9], [6, 10 ], [7, 11 ]]\n",
    "signal= [9, 8, 5, 10, 21]\n",
    "def funct_filter(signals, filters):\n",
    "    dics={}\n",
    "    i=0\n",
    "    for l1 in filters:\n",
    "        dics[i]=list(range(l1[0],l1[1]+1))\n",
    "        i+=1\n",
    "    for item in signals:\n",
    "        num=all(item in slist for slist in dics.values())\n",
    "        if num:\n",
    "            print(item)\n",
    "        else:\n",
    "            None\n",
    "    return None"
   ]
  },
  {
   "cell_type": "code",
   "execution_count": 46,
   "metadata": {},
   "outputs": [
    {
     "name": "stdout",
     "output_type": "stream",
     "text": [
      "9\n",
      "8\n"
     ]
    }
   ],
   "source": [
    "funct_filter(signal,filter_ranges )"
   ]
  },
  {
   "cell_type": "code",
   "execution_count": null,
   "metadata": {},
   "outputs": [],
   "source": []
  }
 ],
 "metadata": {
  "kernelspec": {
   "display_name": "myData",
   "language": "python",
   "name": "python3"
  },
  "language_info": {
   "codemirror_mode": {
    "name": "ipython",
    "version": 3
   },
   "file_extension": ".py",
   "mimetype": "text/x-python",
   "name": "python",
   "nbconvert_exporter": "python",
   "pygments_lexer": "ipython3",
   "version": "3.10.14"
  }
 },
 "nbformat": 4,
 "nbformat_minor": 2
}
