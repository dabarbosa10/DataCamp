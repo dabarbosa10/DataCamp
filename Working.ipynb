{
 "cells": [
  {
   "cell_type": "code",
   "execution_count": 42,
   "metadata": {},
   "outputs": [
    {
     "name": "stdout",
     "output_type": "stream",
     "text": [
      "Hi everyone!\n"
     ]
    }
   ],
   "source": [
    "try:\n",
    "    result=14/0\n",
    "    result + \"100\"\n",
    "except (ZeroDivisionError, TypeError):\n",
    "    result=\"Hi everyone!\"\n",
    "\n",
    "print(result)"
   ]
  },
  {
   "cell_type": "code",
   "execution_count": 43,
   "metadata": {},
   "outputs": [],
   "source": [
    "def divv(n,m):\n",
    "    try:\n",
    "        result= n/m\n",
    "    except ZeroDivisionError as error:\n",
    "        print(f'It is no possible because of: {error}')\n",
    "        result =None\n",
    "    return result"
   ]
  },
  {
   "cell_type": "code",
   "execution_count": 44,
   "metadata": {},
   "outputs": [
    {
     "name": "stdout",
     "output_type": "stream",
     "text": [
      "It is no possible because of: division by zero\n"
     ]
    }
   ],
   "source": [
    "divv(3,0)"
   ]
  },
  {
   "cell_type": "code",
   "execution_count": 45,
   "metadata": {},
   "outputs": [
    {
     "name": "stdout",
     "output_type": "stream",
     "text": [
      "[10, 34, 14, 6, 100]\n"
     ]
    }
   ],
   "source": [
    "numbers = [3,1,4,5,10,34,14,6,100]\n",
    "otnumbers=[n for n in numbers if n>=6]\n",
    "print(otnumbers)"
   ]
  },
  {
   "cell_type": "markdown",
   "metadata": {},
   "source": [
    "### DICTIONARIES"
   ]
  },
  {
   "cell_type": "code",
   "execution_count": 40,
   "metadata": {},
   "outputs": [],
   "source": [
    "filter_ranges=[[5, 9], [6, 10 ], [7, 11 ]]\n",
    "signal= [9, 8, 5, 10, 21]\n",
    "def funct_filter(signals, filters):\n",
    "    dics={}\n",
    "    i=0\n",
    "    for l1 in filters:\n",
    "        dics[i]=list(range(l1[0],l1[1]+1))\n",
    "        i+=1\n",
    "    for item in signals:\n",
    "        num=all(item in slist for slist in dics.values())\n",
    "        if num:\n",
    "            print(item)\n",
    "        else:\n",
    "            None\n",
    "    return None"
   ]
  },
  {
   "cell_type": "code",
   "execution_count": 46,
   "metadata": {},
   "outputs": [
    {
     "name": "stdout",
     "output_type": "stream",
     "text": [
      "9\n",
      "8\n"
     ]
    }
   ],
   "source": [
    "funct_filter(signal,filter_ranges )"
   ]
  },
  {
   "cell_type": "markdown",
   "metadata": {},
   "source": [
    "## TUPLE\n",
    "\n",
    "Can be seen as \"read only\" lists"
   ]
  },
  {
   "cell_type": "code",
   "execution_count": 47,
   "metadata": {},
   "outputs": [
    {
     "name": "stdout",
     "output_type": "stream",
     "text": [
      "first\n",
      "second\n",
      "third\n"
     ]
    }
   ],
   "source": [
    "r_items=('first', 'second','third')\n",
    "for item in r_items:\n",
    "    print(item)"
   ]
  },
  {
   "cell_type": "code",
   "execution_count": 48,
   "metadata": {},
   "outputs": [],
   "source": [
    "import os"
   ]
  },
  {
   "cell_type": "code",
   "execution_count": 52,
   "metadata": {},
   "outputs": [
    {
     "name": "stdout",
     "output_type": "stream",
     "text": [
      "[]\n",
      "[]\n",
      "['.venv']\n",
      "['.venv']\n",
      "['.venv', '.git']\n",
      "['.venv', '.git', '.vscode']\n",
      "['.venv', '.git', '.vscode']\n",
      "['.venv', '.git', '.vscode']\n",
      "['.venv', '.git', '.vscode']\n"
     ]
    }
   ],
   "source": [
    "impotant_dir=[]\n",
    "\n",
    "for item in os.listdir('.'):\n",
    "    if os.path.isdir(item):\n",
    "        impotant_dir.append(item)\n",
    "    print(impotant_dir)\n",
    "\n",
    "for directory in impotant_dir:\n",
    "    if directory[0].isupper():\n",
    "        print(directory)"
   ]
  },
  {
   "cell_type": "markdown",
   "metadata": {},
   "source": [
    "## LIST COMPREHENSIONS\n",
    "\n",
    "The ordering is important.\n",
    "\n",
    "It is like a loop written backwards"
   ]
  },
  {
   "cell_type": "code",
   "execution_count": 54,
   "metadata": {},
   "outputs": [],
   "source": [
    "items=['1', 'f', '15', 'b' , '2','a','12']\n",
    "numeric=[]"
   ]
  },
  {
   "cell_type": "code",
   "execution_count": 55,
   "metadata": {},
   "outputs": [
    {
     "name": "stdout",
     "output_type": "stream",
     "text": [
      "['1', '15', '2', '12']\n"
     ]
    }
   ],
   "source": [
    "for item in items:\n",
    "    if item.isnumeric():\n",
    "        numeric.append(item)\n",
    "\n",
    "print(numeric)"
   ]
  },
  {
   "cell_type": "code",
   "execution_count": 56,
   "metadata": {},
   "outputs": [
    {
     "name": "stdout",
     "output_type": "stream",
     "text": [
      "['1', '15', '2', '12']\n"
     ]
    }
   ],
   "source": [
    "numeric2=[item for item in items if item.isnumeric()]\n",
    "print(numeric2)"
   ]
  },
  {
   "cell_type": "code",
   "execution_count": 57,
   "metadata": {},
   "outputs": [],
   "source": [
    "def greetings(full_n=\"Batman\"):\n",
    "    print(\"Greetings\", full_n)"
   ]
  },
  {
   "cell_type": "code",
   "execution_count": 61,
   "metadata": {},
   "outputs": [
    {
     "name": "stdout",
     "output_type": "stream",
     "text": [
      "Greetings Batman\n",
      "Greetings Superman\n"
     ]
    }
   ],
   "source": [
    "greetings()\n",
    "greetings(\"Superman\")"
   ]
  },
  {
   "cell_type": "code",
   "execution_count": 65,
   "metadata": {},
   "outputs": [],
   "source": [
    "def formal(name, last_name='Bar'):\n",
    "    print(f'Hello Mr.{name} {last_name}')"
   ]
  },
  {
   "cell_type": "code",
   "execution_count": 66,
   "metadata": {},
   "outputs": [
    {
     "name": "stdout",
     "output_type": "stream",
     "text": [
      "Hello Mr.Diego Bar\n",
      "Hello Mr.Diego Barbosa\n"
     ]
    }
   ],
   "source": [
    "formal('Diego')\n",
    "formal('Diego', 'Barbosa')"
   ]
  },
  {
   "cell_type": "markdown",
   "metadata": {},
   "source": [
    "## Variable arguments and Keyword Arguments\n",
    "\n",
    "These are useful when you do not especifically know how many arguments you are going to use"
   ]
  },
  {
   "cell_type": "code",
   "execution_count": 67,
   "metadata": {},
   "outputs": [],
   "source": [
    "def members(*args):\n",
    "    for name in args:\n",
    "        print(name)"
   ]
  },
  {
   "cell_type": "code",
   "execution_count": 68,
   "metadata": {},
   "outputs": [
    {
     "name": "stdout",
     "output_type": "stream",
     "text": [
      "Anne\n",
      "Lucy\n",
      "Michael\n",
      "Robert\n"
     ]
    }
   ],
   "source": [
    "members(\"Anne\", \"Lucy\", \"Michael\", \"Robert\")"
   ]
  },
  {
   "cell_type": "markdown",
   "metadata": {},
   "source": [
    "## Variable keyword arguments\n",
    "\n",
    "Arguments are mapped to a value\n",
    "\n",
    "def stats(*kwargs):"
   ]
  },
  {
   "cell_type": "code",
   "execution_count": 73,
   "metadata": {},
   "outputs": [],
   "source": [
    "def stats(**kwargs):\n",
    "    #dictionary\n",
    "    for key, value in kwargs.items():\n",
    "        print(f' {key} --> {value}')\n",
    "    "
   ]
  },
  {
   "cell_type": "code",
   "execution_count": 74,
   "metadata": {},
   "outputs": [
    {
     "name": "stdout",
     "output_type": "stream",
     "text": [
      " speed --> slow\n",
      " active --> false\n",
      " weight --> 210\n"
     ]
    }
   ],
   "source": [
    "stats(speed='slow', active='false', weight=210)"
   ]
  },
  {
   "cell_type": "code",
   "execution_count": 75,
   "metadata": {},
   "outputs": [],
   "source": [
    "class Dog:\n",
    "\n",
    "    def __init__(self):\n",
    "        self.is_animal=True"
   ]
  },
  {
   "cell_type": "code",
   "execution_count": 76,
   "metadata": {},
   "outputs": [
    {
     "name": "stdout",
     "output_type": "stream",
     "text": [
      "Rufus is an animal? True\n",
      "Sparky is an animal? True\n"
     ]
    }
   ],
   "source": [
    "rufus=Dog()\n",
    "sparky=Dog()\n",
    "\n",
    "print(\"Rufus is an animal?\", rufus.is_animal)\n",
    "print(\"Sparky is an animal?\", sparky.is_animal)"
   ]
  },
  {
   "cell_type": "code",
   "execution_count": 77,
   "metadata": {},
   "outputs": [],
   "source": [
    "class Animal:\n",
    "\n",
    "    def __init__(self, name, legs=4, barks=True):\n",
    "        self.name=name\n",
    "        self.legs=legs\n",
    "        self.barks=barks\n",
    "    \n",
    "    def info(self):\n",
    "        print(f\"This is an animal named {self.name}, has {self.legs} legs\")\n",
    "        if self.barks:\n",
    "            print(\"And this one barks\")\n",
    "        else: \n",
    "            print(\"It doesn't bark at all\")\n",
    "        "
   ]
  },
  {
   "cell_type": "code",
   "execution_count": 78,
   "metadata": {},
   "outputs": [
    {
     "name": "stdout",
     "output_type": "stream",
     "text": [
      "This is an animal named buster, has 4 legs\n",
      "It doesn't bark at all\n"
     ]
    }
   ],
   "source": [
    "bunny=Animal(\"buster\", barks=False)\n",
    "bunny.info()"
   ]
  },
  {
   "cell_type": "code",
   "execution_count": 79,
   "metadata": {},
   "outputs": [
    {
     "name": "stdout",
     "output_type": "stream",
     "text": [
      "buster\n",
      "4\n"
     ]
    }
   ],
   "source": [
    "#Attributues\n",
    "print(bunny.name)\n",
    "print(bunny.legs)"
   ]
  },
  {
   "cell_type": "code",
   "execution_count": 80,
   "metadata": {},
   "outputs": [],
   "source": [
    "class Budget:\n",
    "\n",
    "    def __init__(self, budget):\n",
    "        self.budget=budget\n",
    "    \n",
    "    def expense(self,amount):\n",
    "        self.budget=self.budget-amount\n",
    "        print(f'Budget left: {self.budget}')\n",
    "\n",
    "budget=Budget(100)"
   ]
  },
  {
   "cell_type": "code",
   "execution_count": 81,
   "metadata": {},
   "outputs": [
    {
     "name": "stdout",
     "output_type": "stream",
     "text": [
      "Budget left: 77\n"
     ]
    }
   ],
   "source": [
    "budget.expense(23)"
   ]
  },
  {
   "cell_type": "code",
   "execution_count": 82,
   "metadata": {},
   "outputs": [
    {
     "name": "stdout",
     "output_type": "stream",
     "text": [
      "Budget left: 32\n"
     ]
    }
   ],
   "source": [
    "budget.expense(45)"
   ]
  },
  {
   "cell_type": "code",
   "execution_count": null,
   "metadata": {},
   "outputs": [],
   "source": []
  }
 ],
 "metadata": {
  "kernelspec": {
   "display_name": "myData",
   "language": "python",
   "name": "python3"
  },
  "language_info": {
   "codemirror_mode": {
    "name": "ipython",
    "version": 3
   },
   "file_extension": ".py",
   "mimetype": "text/x-python",
   "name": "python",
   "nbconvert_exporter": "python",
   "pygments_lexer": "ipython3",
   "version": "3.10.14"
  }
 },
 "nbformat": 4,
 "nbformat_minor": 2
}
