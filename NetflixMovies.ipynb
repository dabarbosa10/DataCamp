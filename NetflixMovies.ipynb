{
 "cells": [
  {
   "cell_type": "code",
   "execution_count": null,
   "metadata": {},
   "outputs": [],
   "source": [
    "import pandas as pd\n",
    "import matplotlib.pyplot as plt\n",
    "\n",
    "\n",
    "netflix_df=pd.read_csv('netflix_data.csv')\n",
    "\n",
    "netflix_subset=netflix_df[netflix_df['type']!='TV Show']\n",
    "netflix_movies=netflix_subset[['title', 'country', 'genre','release_year','duration']]\n",
    "short_movies=netflix_movies[netflix_movies['duration']<60]\n",
    "\n",
    "colors=[]\n",
    "for lab, row in netflix_movies.iterrows():\n",
    "    if row['genre']=='Children':\n",
    "        colors.append('blue')\n",
    "    elif row['genre']=='Documentaries':\n",
    "        colors.append('green')\n",
    "    elif row['genre']=='Stand-Up':\n",
    "        colors.append('orange')\n",
    "    else:\n",
    "        colors.append('grey')\n",
    "\n",
    "fig=plt.figure()\n",
    "plt.scatter(netflix_movies['release_year'], netflix_movies['duration'],c=colors)\n",
    "plt.ylabel('Duration (min)')\n",
    "plt.xlabel('Release year')\n",
    "plt.title('Movie Duration by Year of Release')\n",
    "plt.show()"
   ]
  }
 ],
 "metadata": {
  "language_info": {
   "name": "python"
  }
 },
 "nbformat": 4,
 "nbformat_minor": 2
}
