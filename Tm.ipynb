{
 "cells": [
  {
   "cell_type": "code",
   "execution_count": null,
   "metadata": {},
   "outputs": [],
   "source": [
    "from random import randrange\n",
    "\n",
    "class Pet:\n",
    "\n",
    "    boredom_decrement=4\n",
    "    hunger_decrement=6\n",
    "    boredom_threshold=5\n",
    "    hunger_threshold=10\n",
    "    sounds=['Mrrp']\n",
    "\n",
    "    def __init__(self,name='Kitty') -> None:\n",
    "        self.name=name\n",
    "        self.hunger=randrange(self.hunger_threshold)\n",
    "        self.boredom=randrange(self.boredom_threshold)\n",
    "        self.sounds=self.sounds[:]\n",
    "    \n",
    "    def clock_tick(self):\n",
    "        self.boredom+=1\n",
    "        self.hunger+=1\n",
    "\n",
    "    def mood(self):\n",
    "        if self.hunger<=self.hunger_threshold and self.boredom<=self.boredom_threshold:\n",
    "            return \"happy\"\n",
    "        elif self.hunger>self.hunger_threshold:\n",
    "            return \"hungry\"\n",
    "        else: \n",
    "            return \"bored\"\n",
    "        \n",
    "     "
   ]
  }
 ],
 "metadata": {
  "language_info": {
   "name": "python"
  }
 },
 "nbformat": 4,
 "nbformat_minor": 2
}
