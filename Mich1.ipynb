{
 "cells": [
  {
   "cell_type": "code",
   "execution_count": 1,
   "metadata": {},
   "outputs": [
    {
     "name": "stdout",
     "output_type": "stream",
     "text": [
      "x=7, y=6\n",
      "9.219544457292887\n"
     ]
    }
   ],
   "source": [
    "class Point:\n",
    "    \"\"\"Point class for representing and manipulationg x,y coordinates\"\"\"\n",
    "    def __init__(self,initX,initY):\n",
    "        self.x=initX\n",
    "        self.y=initY\n",
    "    \n",
    "    #the getX method when invoked will return the value of the x coordinate\n",
    "    def getX(self):\n",
    "        return self.x\n",
    "    def getY(self):\n",
    "        return self.y\n",
    "    \n",
    "    def distanceFromOrigin(self):\n",
    "        return ((self.x)**2 + (self.y)**2)**0.5\n",
    "    \n",
    "    def distance(self,point2):\n",
    "        return ((self.x-point2.getX())**2 +(self.y-point2.getY())**2)**0.5\n",
    "    \n",
    "    def __str__(self) -> str:\n",
    "        return \"x={}, y={}\".format(self.x, self.y)\n",
    "\n",
    "p=Point(7,6)\n",
    "print(p)\n",
    "print(p.distanceFromOrigin())\n"
   ]
  },
  {
   "cell_type": "code",
   "execution_count": 2,
   "metadata": {},
   "outputs": [
    {
     "data": {
      "text/plain": [
       "5.0"
      ]
     },
     "execution_count": 2,
     "metadata": {},
     "output_type": "execute_result"
    }
   ],
   "source": [
    "r=Point(4,3)\n",
    "s=Point(0,0)\n",
    "r.distance(s)\n",
    "\n"
   ]
  },
  {
   "cell_type": "code",
   "execution_count": 3,
   "metadata": {},
   "outputs": [],
   "source": [
    "import os\n",
    "directories=os.listdir('/Users/diegobarbosa')"
   ]
  },
  {
   "cell_type": "code",
   "execution_count": 4,
   "metadata": {},
   "outputs": [
    {
     "data": {
      "text/plain": [
       "['DYJetsToLL_M-50_TuneCP5_13TeVMLM_TeV_MG_MC_44.root',\n",
       " '.eclipse',\n",
       " '.config',\n",
       " 'Output2018_ee.root',\n",
       " '.gnuplot_history',\n",
       " 'Music',\n",
       " '.fop',\n",
       " 'DiElectron.pdf',\n",
       " '.condarc',\n",
       " 'SignalsLCode_Etau.zip',\n",
       " '.serverauth.849',\n",
       " 'fermi.sh',\n",
       " 'Untitled5.ipynb',\n",
       " 'octave-workspace',\n",
       " 'Untitled1.ipynb',\n",
       " '.vim',\n",
       " 'DY+Jets.root',\n",
       " '.DS_Store',\n",
       " 'eclipse',\n",
       " '.serverauth.1429',\n",
       " 'WJetsToLNu_TuneCP5_13TeVMLM_TeV_MG_MC_44.root',\n",
       " '.thumbnails',\n",
       " 'Output2018_DY_Mutau.root',\n",
       " '.CFUserTextEncoding',\n",
       " '.xonshrc',\n",
       " 'Untitled3.ipynb',\n",
       " 'Untitled.ipynb',\n",
       " '.zshrc',\n",
       " '.serverauth.8314',\n",
       " 'MUONTAUNttbar.zip',\n",
       " '.serverauth.1801',\n",
       " 'Untitled4.ipynb',\n",
       " '.local',\n",
       " '.psql_history',\n",
       " 'Pictures',\n",
       " '.serverauth.2070',\n",
       " 'filex.zip',\n",
       " '.zsh_history',\n",
       " 'Untitled2.ipynb',\n",
       " '.p2',\n",
       " '.ipython',\n",
       " 'Desktop',\n",
       " 'MuTauTTBarCR',\n",
       " 'Library',\n",
       " 'eclipse-workspace',\n",
       " '.matplotlib',\n",
       " '.serverauth.450',\n",
       " '.rootnb',\n",
       " '.oracle_jre_usage',\n",
       " '.spyder-py3',\n",
       " '.emacs.d',\n",
       " 'eTau_2018_gl1_UpperLimits.root',\n",
       " 'DENV',\n",
       " '.octave_hist',\n",
       " '.android',\n",
       " '.pgadmin',\n",
       " '.bash_sessions',\n",
       " '.python_history-05894.tmp',\n",
       " '.serverauth.1365',\n",
       " 'ph1.py',\n",
       " '.serverauth.3864',\n",
       " 'PycharmProjects',\n",
       " 'Public',\n",
       " 'muTau_2018_gl1_UpperLimit.root',\n",
       " 'WJetsToLNu_TuneCP5_13TeVMLM_TeV_MG_MC_4.root',\n",
       " '.serverauth.1797',\n",
       " 'W+Jets.root',\n",
       " '.idlerc',\n",
       " 'Data.root',\n",
       " '.tcshrc',\n",
       " '.venv',\n",
       " '.anaconda',\n",
       " '.python_history-01360.tmp',\n",
       " '.ssh',\n",
       " 'Movies',\n",
       " '10pRes.zip',\n",
       " 'Applications',\n",
       " '.gradle',\n",
       " '.Rapp.history',\n",
       " 'opt',\n",
       " 'astroML_data',\n",
       " '.rubies',\n",
       " '.Trash',\n",
       " 'IdeaProjects',\n",
       " 'Ztoee2018.root',\n",
       " '.ipynb_checkpoints',\n",
       " '.serverauth.948',\n",
       " '.jupyter',\n",
       " '.keras',\n",
       " 'matlab_crash_dump.978-1',\n",
       " 'commands.txt',\n",
       " '.serverauth.4385',\n",
       " '.serverauth.2247',\n",
       " 'Documents',\n",
       " '.serverauth.1803',\n",
       " 'dbar',\n",
       " '.vscode',\n",
       " '.serverauth.11655',\n",
       " '.m2',\n",
       " 'lxplus.sh',\n",
       " '.root_hist',\n",
       " '.bash_profile',\n",
       " '.gem',\n",
       " '.kite',\n",
       " '.Xauthority',\n",
       " 'anaconda3',\n",
       " 'Downloads',\n",
       " '.python_history',\n",
       " '.continuum',\n",
       " '.cache',\n",
       " '.gitconfig',\n",
       " '.serverauth.1520',\n",
       " '.bash_history',\n",
       " '.viminfo',\n",
       " 'DYJetsToLL_M-50.root',\n",
       " '.serverauth.2136',\n",
       " '.astropy',\n",
       " '.conda',\n",
       " 'src']"
      ]
     },
     "execution_count": 4,
     "metadata": {},
     "output_type": "execute_result"
    }
   ],
   "source": [
    "directories"
   ]
  },
  {
   "cell_type": "code",
   "execution_count": 5,
   "metadata": {},
   "outputs": [],
   "source": [
    "class Cereal:\n",
    "    def __init__(self, name, brand, fiber) -> None:\n",
    "        self.name=name\n",
    "        self.brand=brand\n",
    "        self.fiber=fiber\n",
    "\n",
    "    def __str__(self) -> str:\n",
    "        return \"{} cereal is produced by {} and has {} grams of fiber in every serving!\".format(self.name, self.brand,self.fiber)\n",
    "    \n",
    "c1=Cereal(\"Corn Flakes\", \"Kellogg's\", 2)\n",
    "c2=Cereal(\"Honey Nut Cheerios\", \"General Mills\", 3)"
   ]
  },
  {
   "cell_type": "code",
   "execution_count": 6,
   "metadata": {},
   "outputs": [
    {
     "name": "stdout",
     "output_type": "stream",
     "text": [
      "Corn Flakes cereal is produced by Kellogg's and has 2 grams of fiber in every serving!\n",
      "Honey Nut Cheerios cereal is produced by General Mills and has 3 grams of fiber in every serving!\n"
     ]
    }
   ],
   "source": [
    "print(c1)\n",
    "print(c2)"
   ]
  },
  {
   "cell_type": "code",
   "execution_count": 7,
   "metadata": {},
   "outputs": [],
   "source": [
    "class Fruit():\n",
    "    def __init__(self,name,price):\n",
    "        self.name=name\n",
    "        self.price=price\n",
    "\n",
    "L=[Fruit(\"Cherry\", 10), Fruit(\"Apple\", 5), Fruit(\"Blueberry\", 20)]"
   ]
  },
  {
   "cell_type": "markdown",
   "metadata": {},
   "source": [
    "Is it a list of objects?"
   ]
  },
  {
   "cell_type": "code",
   "execution_count": 8,
   "metadata": {},
   "outputs": [
    {
     "name": "stdout",
     "output_type": "stream",
     "text": [
      "<class 'list'>\n",
      "[<__main__.Fruit object at 0x10457ece0>, <__main__.Fruit object at 0x10457cc70>, <__main__.Fruit object at 0x10457e5c0>]\n"
     ]
    }
   ],
   "source": [
    "print(type(L))\n",
    "\n",
    "print(L)"
   ]
  },
  {
   "cell_type": "code",
   "execution_count": 9,
   "metadata": {},
   "outputs": [
    {
     "name": "stdout",
     "output_type": "stream",
     "text": [
      "Apple\n",
      "Cherry\n",
      "Blueberry\n"
     ]
    }
   ],
   "source": [
    "sort_L=sorted(L, key=lambda x:x.price)\n",
    "for f in sort_L:\n",
    "    print(f.name)\n"
   ]
  },
  {
   "cell_type": "markdown",
   "metadata": {},
   "source": [
    "Python provides a statement called assert\n",
    "\n",
    "Following the word assert there will be a Python expression.\n",
    "\n",
    "If that expression evaluates to the Boolean False -> runtime error\n",
    "\n",
    "If true, then nothing happens"
   ]
  },
  {
   "cell_type": "code",
   "execution_count": 10,
   "metadata": {},
   "outputs": [
    {
     "name": "stdout",
     "output_type": "stream",
     "text": [
      "1.0\n"
     ]
    },
    {
     "ename": "AssertionError",
     "evalue": "",
     "output_type": "error",
     "traceback": [
      "\u001b[0;31m---------------------------------------------------------------------------\u001b[0m",
      "\u001b[0;31mAssertionError\u001b[0m                            Traceback (most recent call last)",
      "Cell \u001b[0;32mIn[10], line 3\u001b[0m\n\u001b[1;32m      1\u001b[0m \u001b[38;5;28mprint\u001b[39m(\u001b[38;5;241m9.0\u001b[39m\u001b[38;5;241m/\u001b[39m\u001b[38;5;241m/\u001b[39m\u001b[38;5;241m5\u001b[39m)\n\u001b[1;32m      2\u001b[0m \u001b[38;5;28;01massert\u001b[39;00m \u001b[38;5;28mtype\u001b[39m(\u001b[38;5;241m9\u001b[39m\u001b[38;5;241m/\u001b[39m\u001b[38;5;241m/\u001b[39m\u001b[38;5;241m5\u001b[39m)\u001b[38;5;241m==\u001b[39m\u001b[38;5;28mint\u001b[39m\n\u001b[0;32m----> 3\u001b[0m \u001b[38;5;28;01massert\u001b[39;00m \u001b[38;5;28mtype\u001b[39m(\u001b[38;5;241m9.0\u001b[39m\u001b[38;5;241m/\u001b[39m\u001b[38;5;241m/\u001b[39m\u001b[38;5;241m5.0\u001b[39m)\u001b[38;5;241m==\u001b[39m\u001b[38;5;28mint\u001b[39m\n",
      "\u001b[0;31mAssertionError\u001b[0m: "
     ]
    }
   ],
   "source": [
    "print(9.0//5)\n",
    "assert type(9//5)==int\n",
    "assert type(9.0//5.0)==int"
   ]
  },
  {
   "cell_type": "code",
   "execution_count": 11,
   "metadata": {},
   "outputs": [],
   "source": [
    "lst=['a','b','c']\n",
    "first_type=type(lst[0])\n",
    "for item in lst:\n",
    "    assert type(item)==first_type"
   ]
  },
  {
   "cell_type": "code",
   "execution_count": 12,
   "metadata": {},
   "outputs": [
    {
     "ename": "AssertionError",
     "evalue": "",
     "output_type": "error",
     "traceback": [
      "\u001b[0;31m---------------------------------------------------------------------------\u001b[0m",
      "\u001b[0;31mAssertionError\u001b[0m                            Traceback (most recent call last)",
      "Cell \u001b[0;32mIn[12], line 4\u001b[0m\n\u001b[1;32m      2\u001b[0m first_type2\u001b[38;5;241m=\u001b[39m\u001b[38;5;28mtype\u001b[39m(lst[\u001b[38;5;241m0\u001b[39m])\n\u001b[1;32m      3\u001b[0m \u001b[38;5;28;01mfor\u001b[39;00m item \u001b[38;5;129;01min\u001b[39;00m lst2:\n\u001b[0;32m----> 4\u001b[0m     \u001b[38;5;28;01massert\u001b[39;00m \u001b[38;5;28mtype\u001b[39m(item)\u001b[38;5;241m==\u001b[39mfirst_type2\n",
      "\u001b[0;31mAssertionError\u001b[0m: "
     ]
    }
   ],
   "source": [
    "lst2=['a','b','c',17]\n",
    "first_type2=type(lst[0])\n",
    "for item in lst2:\n",
    "    assert type(item)==first_type2"
   ]
  },
  {
   "cell_type": "code",
   "execution_count": 13,
   "metadata": {},
   "outputs": [],
   "source": [
    "x=3\n",
    "y=0\n",
    "\n",
    "if x<y:\n",
    "    z=x\n",
    "else:\n",
    "    if x>y:\n",
    "        z=y\n",
    "    else:\n",
    "        ## x must be equal to y\n",
    "        assert x==y\n",
    "        z=0"
   ]
  },
  {
   "cell_type": "code",
   "execution_count": 14,
   "metadata": {},
   "outputs": [],
   "source": [
    "nums=[]\n",
    "if len(nums)==0:\n",
    "    accum=None\n",
    "else:\n",
    "    accum=0\n",
    "    for w in nums:\n",
    "        accum+=w\n",
    "assert accum==None"
   ]
  },
  {
   "cell_type": "code",
   "execution_count": 15,
   "metadata": {},
   "outputs": [],
   "source": [
    "def square(x):\n",
    "    return x*x\n",
    "\n",
    "assert square(3)==9\n",
    "assert square(-3)==9\n",
    "assert square(0)==0"
   ]
  },
  {
   "cell_type": "code",
   "execution_count": 16,
   "metadata": {},
   "outputs": [],
   "source": [
    "def update_counts(letters, counts_d):\n",
    "    for c in letters:\n",
    "        if c in counts_d:\n",
    "            counts_d[c]=counts_d[c]+1\n",
    "    print(counts_d)"
   ]
  },
  {
   "cell_type": "code",
   "execution_count": 17,
   "metadata": {},
   "outputs": [
    {
     "name": "stdout",
     "output_type": "stream",
     "text": [
      "{'a': 6, 'b': 3}\n"
     ]
    }
   ],
   "source": [
    "counts={'a':3, 'b':2}\n",
    "update_counts(\"aaab\",counts)\n",
    "\n",
    "assert counts['a']==6\n",
    "assert counts['b']==3"
   ]
  },
  {
   "cell_type": "code",
   "execution_count": null,
   "metadata": {},
   "outputs": [],
   "source": []
  }
 ],
 "metadata": {
  "kernelspec": {
   "display_name": "myData",
   "language": "python",
   "name": "python3"
  },
  "language_info": {
   "codemirror_mode": {
    "name": "ipython",
    "version": 3
   },
   "file_extension": ".py",
   "mimetype": "text/x-python",
   "name": "python",
   "nbconvert_exporter": "python",
   "pygments_lexer": "ipython3",
   "version": "3.10.14"
  }
 },
 "nbformat": 4,
 "nbformat_minor": 2
}
