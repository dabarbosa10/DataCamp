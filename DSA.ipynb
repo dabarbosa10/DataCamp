{
 "cells": [
  {
   "cell_type": "code",
   "execution_count": 1,
   "metadata": {},
   "outputs": [],
   "source": [
    "class Node:\n",
    "    def __init__(self,data) -> None:\n",
    "        self.data=data\n",
    "        self.next=None\n",
    "\n",
    "node1=Node(1)\n",
    "node2=Node(2)\n",
    "node3=Node(3)\n",
    "node4=Node(4)\n",
    "\n",
    "\n",
    "node1.next=node2\n",
    "node2.next=node3\n",
    "node3.next=node4\n"
   ]
  },
  {
   "cell_type": "code",
   "execution_count": 2,
   "metadata": {},
   "outputs": [
    {
     "name": "stdout",
     "output_type": "stream",
     "text": [
      "1->2->3->4->null\n"
     ]
    }
   ],
   "source": [
    "currentNode=node1\n",
    "while currentNode:\n",
    "    print(currentNode.data, end='->')\n",
    "    currentNode=currentNode.next\n",
    "print(\"null\")"
   ]
  },
  {
   "cell_type": "code",
   "execution_count": null,
   "metadata": {},
   "outputs": [],
   "source": [
    "def in_order(self, current_node):\n",
    "    if current_node:\n",
    "        self.in_order(current_node.left_child)\n"
   ]
  },
  {
   "cell_type": "markdown",
   "metadata": {},
   "source": [
    "\n",
    "def in_order(self, current_node):\n",
    "\n",
    "    if current_node:\n",
    "\n",
    "        self.in_order(current_node.left_child)\n",
    "\n",
    "        print(current_node.data)\n",
    "        \n",
    "        self.in_order(current_node.right_child)\n",
    "\n",
    "my_tree.in_odrder(my_tree.root)\n"
   ]
  },
  {
   "cell_type": "markdown",
   "metadata": {},
   "source": [
    "def pre_order(self, current_node):\n",
    "\n",
    "    if current_node:\n",
    "    print(current_node.data)\n",
    "    self.pre_order(current_node.left_child)\n",
    "    self_pre_order(current_node.right_child)\n",
    "\n",
    "my_tree.pre_order(my_tree.root)"
   ]
  },
  {
   "cell_type": "markdown",
   "metadata": {},
   "source": [
    "\n",
    "def dfs(visited_vertices, graph, current_vertex):\n",
    "    \n",
    "    if current_vertex not in visited vertices:\n",
    "    \n",
    "    print(current_vertex)\n",
    "\n",
    "    visited_vertices.add(current_vertex)\n",
    "\n",
    "    for adjacent_vertex in graph[current_vertex]:\n",
    "\n",
    "        dfs(visited_verices, graph, adjacent_vertex)"
   ]
  },
  {
   "cell_type": "markdown",
   "metadata": {},
   "source": [
    "    \n",
    "    def bfs(self):\n",
    "\n",
    "        if self.root:\n",
    "\n",
    "            visited_nodes=[]\n",
    "\n",
    "            bfs_queue=queue.SimpleQueue()\n",
    "\n",
    "            bfs_queue.put(self.root)\n",
    "\n",
    "            while not bfs_queue.empty():\n",
    "\n",
    "                current_node=bfs_queue.get()\n",
    "\n",
    "                visited_nodes.append(current_node.data)\n",
    "\n",
    "                if current_node.left:\n",
    "\n",
    "                    bfs_queue.put(current_node.left)\n",
    "\n",
    "                if current_node.right:\n",
    "\n",
    "                    bfs_queue.put(current_node.right)\n",
    "\n",
    "    return visited_vertices\n",
    "\n",
    "\n"
   ]
  },
  {
   "cell_type": "code",
   "execution_count": null,
   "metadata": {},
   "outputs": [],
   "source": [
    "def bubble_sort(my_list):\n",
    "    list_length = len(my_list)\n",
    "    for i in range(list_length):\n",
    "        \n"
   ]
  },
  {
   "cell_type": "code",
   "execution_count": null,
   "metadata": {},
   "outputs": [],
   "source": []
  },
  {
   "cell_type": "code",
   "execution_count": null,
   "metadata": {},
   "outputs": [],
   "source": []
  }
 ],
 "metadata": {
  "kernelspec": {
   "display_name": "myData",
   "language": "python",
   "name": "python3"
  },
  "language_info": {
   "codemirror_mode": {
    "name": "ipython",
    "version": 3
   },
   "file_extension": ".py",
   "mimetype": "text/x-python",
   "name": "python",
   "nbconvert_exporter": "python",
   "pygments_lexer": "ipython3",
   "version": "3.10.14"
  }
 },
 "nbformat": 4,
 "nbformat_minor": 2
}
