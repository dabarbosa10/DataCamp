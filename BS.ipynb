{
 "cells": [
  {
   "cell_type": "code",
   "execution_count": 1,
   "metadata": {},
   "outputs": [
    {
     "name": "stdout",
     "output_type": "stream",
     "text": [
      "[1, 3, 4, 5, 7]\n"
     ]
    }
   ],
   "source": [
    "def bubble_sort(my_list):\n",
    "    list_lenght=len(my_list)\n",
    "    for i in range(list_lenght-1):\n",
    "        for j in range(list_lenght-1-i):\n",
    "            if my_list[j]>my_list[j+1]:\n",
    "                my_list[j],my_list[j+1]=my_list[j+1], my_list[j]\n",
    "    return my_list\n",
    "\n",
    "print(bubble_sort([4,3,7,1,5]))"
   ]
  },
  {
   "cell_type": "code",
   "execution_count": 3,
   "metadata": {},
   "outputs": [],
   "source": [
    "#Other implementation\n",
    "def bub_sort(my_list):\n",
    "    list_lenght=len(my_list)\n",
    "    is_sorted=False\n",
    "    while not is_sorted:\n",
    "        is_sorted=True\n",
    "        for i in range(list_lenght-1):\n",
    "            if my_list[i]>my_list[i+1]:\n",
    "                my_list[i], my_list[i+1]=my_list[i+1], my_list[i]\n",
    "                is_sorted=False\n",
    "        list_lenght-=1\n",
    "    return my_list"
   ]
  },
  {
   "cell_type": "code",
   "execution_count": 4,
   "metadata": {},
   "outputs": [
    {
     "name": "stdout",
     "output_type": "stream",
     "text": [
      "[1, 3, 4, 5, 7]\n"
     ]
    }
   ],
   "source": [
    "print(bub_sort([4,3,7,1,5]))"
   ]
  },
  {
   "cell_type": "code",
   "execution_count": 5,
   "metadata": {},
   "outputs": [],
   "source": [
    "def selection_sort(my_list):\n",
    "    list_length=len(my_list)\n",
    "    for i in range(list_length-1):\n",
    "        lowest=my_list[i]\n",
    "        index=i\n",
    "        for j in range(i+1, list_length):\n",
    "            if my_list[j]<lowest:\n",
    "                index=j\n",
    "                lowest=my_list[j]\n",
    "\n",
    "        my_list[i], my_list[index]=my_list[index], my_list[i]\n",
    "    return my_list\n"
   ]
  },
  {
   "cell_type": "code",
   "execution_count": 6,
   "metadata": {},
   "outputs": [],
   "source": [
    "def insertion_sort(my_list):\n",
    "    for i in range(1, len(my_list)):\n",
    "        number_to_order=my_list[i]\n",
    "        j=i-1\n",
    "        while j>=0 and number_to_order < my_list[i]:\n",
    "            my_list[j+i]=my_list[j]\n",
    "            j-=1\n",
    "        my_list[j+1]=number_to_order\n",
    "    return my_list"
   ]
  },
  {
   "cell_type": "code",
   "execution_count": 7,
   "metadata": {},
   "outputs": [],
   "source": [
    "import array"
   ]
  },
  {
   "cell_type": "code",
   "execution_count": 9,
   "metadata": {},
   "outputs": [
    {
     "name": "stdout",
     "output_type": "stream",
     "text": [
      "array('i')\n",
      "array('i', [1, 2, 3, 4])\n"
     ]
    }
   ],
   "source": [
    "my_array=array.array('i')\n",
    "print(my_array)\n",
    "my_array1=array.array('i',[1,2,3,4])\n",
    "print(my_array1)"
   ]
  },
  {
   "cell_type": "code",
   "execution_count": 10,
   "metadata": {},
   "outputs": [
    {
     "name": "stdout",
     "output_type": "stream",
     "text": [
      "[]\n"
     ]
    }
   ],
   "source": [
    "import numpy as np\n",
    "np_array=np.array([], dtype=int)\n",
    "print(np_array)"
   ]
  },
  {
   "cell_type": "code",
   "execution_count": 11,
   "metadata": {},
   "outputs": [
    {
     "name": "stdout",
     "output_type": "stream",
     "text": [
      "array('i', [6, 1, 2, 3, 4])\n"
     ]
    }
   ],
   "source": [
    "my_array1.insert(0,6)\n",
    "print(my_array1)"
   ]
  },
  {
   "cell_type": "code",
   "execution_count": null,
   "metadata": {},
   "outputs": [],
   "source": []
  }
 ],
 "metadata": {
  "kernelspec": {
   "display_name": "myData",
   "language": "python",
   "name": "python3"
  },
  "language_info": {
   "codemirror_mode": {
    "name": "ipython",
    "version": 3
   },
   "file_extension": ".py",
   "mimetype": "text/x-python",
   "name": "python",
   "nbconvert_exporter": "python",
   "pygments_lexer": "ipython3",
   "version": "3.10.14"
  }
 },
 "nbformat": 4,
 "nbformat_minor": 2
}
