{
 "cells": [
  {
   "cell_type": "code",
   "execution_count": 1,
   "metadata": {},
   "outputs": [
    {
     "name": "stdout",
     "output_type": "stream",
     "text": [
      "[1, 3, 4, 5, 7]\n"
     ]
    }
   ],
   "source": [
    "def bubble_sort(my_list):\n",
    "    list_lenght=len(my_list)\n",
    "    for i in range(list_lenght-1):\n",
    "        for j in range(list_lenght-1-i):\n",
    "            if my_list[j]>my_list[j+1]:\n",
    "                my_list[j],my_list[j+1]=my_list[j+1], my_list[j]\n",
    "    return my_list\n",
    "\n",
    "print(bubble_sort([4,3,7,1,5]))"
   ]
  },
  {
   "cell_type": "code",
   "execution_count": null,
   "metadata": {},
   "outputs": [],
   "source": []
  }
 ],
 "metadata": {
  "kernelspec": {
   "display_name": "myData",
   "language": "python",
   "name": "python3"
  },
  "language_info": {
   "codemirror_mode": {
    "name": "ipython",
    "version": 3
   },
   "file_extension": ".py",
   "mimetype": "text/x-python",
   "name": "python",
   "nbconvert_exporter": "python",
   "pygments_lexer": "ipython3",
   "version": "3.10.14"
  }
 },
 "nbformat": 4,
 "nbformat_minor": 2
}
